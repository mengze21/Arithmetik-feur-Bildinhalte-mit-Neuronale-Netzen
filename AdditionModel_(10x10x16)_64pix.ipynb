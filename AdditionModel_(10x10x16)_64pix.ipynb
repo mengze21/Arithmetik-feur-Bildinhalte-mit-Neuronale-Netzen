{
 "cells": [
  {
   "cell_type": "code",
   "execution_count": 5,
   "metadata": {
    "ExecuteTime": {
     "start_time": "2023-05-21T18:49:44.982586Z",
     "end_time": "2023-05-21T18:49:44.986223Z"
    }
   },
   "outputs": [],
   "source": [
    "import numpy as np\n",
    "import tensorflow as tf\n",
    "import helpful_functions as hf\n",
    "from tensorflow import keras\n",
    "from tensorflow.keras import layers, losses\n",
    "from tensorflow.keras.callbacks import EarlyStopping\n",
    "import matplotlib.pyplot as plt\n",
    "import pandas as pd\n",
    "import time"
   ]
  },
  {
   "cell_type": "markdown",
   "metadata": {
    "collapsed": false
   },
   "source": [
    "# ---only for cluster--- #\n",
    "import tensorflow as tf\n",
    "\n",
    "phys_devices = tf.config.list_physical_devices('GPU')\n",
    "try:\n",
    "    tf.config.experimental.set_memory_growth(phys_devices[0], True)\n",
    "except IndexError:\n",
    "    pass"
   ]
  },
  {
   "cell_type": "code",
   "execution_count": 6,
   "metadata": {
    "collapsed": false,
    "ExecuteTime": {
     "start_time": "2023-05-21T18:49:48.827206Z",
     "end_time": "2023-05-21T18:49:49.027862Z"
    }
   },
   "outputs": [
    {
     "name": "stdout",
     "output_type": "stream",
     "text": [
      "Model: \"autoencoder\"\n",
      "__________________________________________________________________________________________________\n",
      " Layer (type)                   Output Shape         Param #     Connected to                     \n",
      "==================================================================================================\n",
      " input_img1 (InputLayer)        [(None, 64, 64, 1)]  0           []                               \n",
      "                                                                                                  \n",
      " input_img2 (InputLayer)        [(None, 64, 64, 1)]  0           []                               \n",
      "                                                                                                  \n",
      " encoder (Functional)           (None, 10, 10, 16)   17488       ['input_img1[0][0]',             \n",
      "                                                                  'input_img2[0][0]']             \n",
      "                                                                                                  \n",
      " add_9 (Add)                    (None, 10, 10, 16)   0           ['encoder[0][0]',                \n",
      "                                                                  'encoder[1][0]']                \n",
      "                                                                                                  \n",
      " decoder (Functional)           (None, 64, 64, 1)    17473       ['encoder[0][0]',                \n",
      "                                                                  'encoder[1][0]',                \n",
      "                                                                  'add_9[0][0]']                  \n",
      "                                                                                                  \n",
      "==================================================================================================\n",
      "Total params: 34,961\n",
      "Trainable params: 34,961\n",
      "Non-trainable params: 0\n",
      "__________________________________________________________________________________________________\n"
     ]
    }
   ],
   "source": [
    "# -----2 Inputs: 64x64 pixel, latent vector: 10x10x16 ----- #\n",
    "#encoder\n",
    "encoder_inputs = keras.Input(shape=(64, 64, 1), name=\"img_input\")\n",
    "x = layers.Conv2D(8, 3, activation=\"relu\")(encoder_inputs)\n",
    "x = layers.Conv2D(16, 3, activation=\"relu\")(x)\n",
    "block_1_output = layers.MaxPooling2D(2)(x)\n",
    "\n",
    "x = layers.Conv2D(16, 3, activation=\"relu\", padding=\"same\")(block_1_output)\n",
    "x = layers.Conv2D(16, 3, activation=\"relu\", padding=\"same\")(x)\n",
    "block_2_output = layers.add([x, block_1_output])\n",
    "\n",
    "x = layers.Conv2D(16, 3, activation=\"relu\")(block_2_output)\n",
    "block_3_output = layers.MaxPooling2D(2)(x)\n",
    "\n",
    "x = layers.Conv2D(16, 3, activation=\"relu\", padding=\"same\")(block_3_output)\n",
    "x = layers.Conv2D(16, 3, activation=\"relu\", padding=\"same\")(x)\n",
    "block_4_output = layers.add([x, block_3_output])\n",
    "\n",
    "x  = layers.Conv2D(16, 3, activation=\"relu\")(block_4_output)\n",
    "encoder_outputs= layers.Conv2D(16, 3, activation=\"relu\")(x)\n",
    "\n",
    "encoder = keras.Model(encoder_inputs, encoder_outputs, name=\"encoder\")\n",
    "#encoder.summary()\n",
    "\n",
    "#decoder\n",
    "decoder_inputs = keras.Input(shape=(10, 10, 16), name=\"decoder_input\")\n",
    "x = layers.Conv2DTranspose(16, 3, activation=\"relu\")(decoder_inputs)\n",
    "block_5_output = layers.Conv2DTranspose(16, 3, activation=\"relu\")(x)\n",
    "\n",
    "x = layers.Conv2DTranspose(16, 3, activation=\"relu\", padding=\"same\")(block_5_output)\n",
    "x = layers.Conv2DTranspose(16, 3, activation=\"relu\", padding=\"same\")(x)\n",
    "block_6_output = layers.add([x, block_5_output])\n",
    "\n",
    "x = layers.UpSampling2D(2)(block_6_output)\n",
    "block_7_output = layers.Conv2DTranspose(16, 3, activation=\"relu\")(x)\n",
    "\n",
    "x = layers.Conv2DTranspose(16, 3, activation=\"relu\", padding=\"same\")(block_7_output)\n",
    "x = layers.Conv2DTranspose(16, 3, activation=\"relu\", padding=\"same\")(x)\n",
    "block_8_output = layers.add([x, block_7_output])\n",
    "\n",
    "x = layers.UpSampling2D(2)(block_8_output)\n",
    "x = layers.Conv2DTranspose(8, 3, activation=\"relu\")(x)\n",
    "decoder_outputs = layers.Conv2DTranspose(1, 3, activation=\"relu\")(x)\n",
    "\n",
    "decoder = keras.Model(decoder_inputs, decoder_outputs, name=\"decoder\")\n",
    "#decoder.summary()\n",
    "\n",
    "# bild autoencoder\n",
    "autoencoder_input1 = keras.Input(shape=(64, 64, 1), name=\"input_img1\")\n",
    "autoencoder_input2 = keras.Input(shape=(64, 64, 1), name=\"input_img2\")\n",
    "\n",
    "encoded_img1 = encoder(autoencoder_input1)\n",
    "encoded_img2 = encoder(autoencoder_input2)\n",
    "\n",
    "\n",
    "encoded_img3 = layers.add([encoded_img1,encoded_img2])\n",
    "decoded_img1 = decoder(encoded_img1)\n",
    "decoded_img2 = decoder(encoded_img2)\n",
    "decoded_img3 = decoder(encoded_img3)\n",
    "\n",
    "autoencoder = keras.Model(inputs=[autoencoder_input1,autoencoder_input2], outputs=[decoded_img1,decoded_img2,decoded_img3], name=\"autoencoder\")\n",
    "autoencoder.summary()"
   ]
  },
  {
   "cell_type": "markdown",
   "source": [
    "keras.utils.plot_model(encoder, \"output/struktur_autoencoder/64_encoder.png\", show_shapes=True, dpi=150)\n",
    "keras.utils.plot_model(decoder, \"output/struktur_autoencoder/64_decoder.png\", show_shapes=True, dpi=150)"
   ],
   "metadata": {
    "collapsed": false
   }
  },
  {
   "cell_type": "code",
   "execution_count": 7,
   "outputs": [
    {
     "name": "stdout",
     "output_type": "stream",
     "text": [
      "(8000, 2, 64, 64, 1)\n",
      "(8000, 3, 64, 64, 1)\n",
      "(2000, 2, 64, 64, 1)\n",
      "(2000, 3, 64, 64, 1)\n"
     ]
    }
   ],
   "source": [
    "# load data_set\n",
    "#data_set = hf.load_dataset_npz('data_set/2Inputs_64pix_3-8_ratio05_1.npz')\n",
    "data_set = hf.load_dataset_npz('data_set/2Inputs_64pix_3-8_ratio05.npz')\n",
    "#data_set = hf.load_dataset_npz('data_set/2Inputs_64pix_3-8_ratio07.npz')\n",
    "data_set = data_set.astype('float32')\n",
    "x_train = data_set[:8000, :2]\n",
    "y_train = data_set[:8000]\n",
    "x_test = data_set[8000:, :2]\n",
    "y_test = data_set[8000:]\n",
    "print(x_train.shape)\n",
    "print(y_train.shape)\n",
    "print(x_test.shape)\n",
    "print(y_test.shape)"
   ],
   "metadata": {
    "collapsed": false,
    "ExecuteTime": {
     "start_time": "2023-05-21T18:49:52.715966Z",
     "end_time": "2023-05-21T18:49:54.679345Z"
    }
   }
  },
  {
   "cell_type": "code",
   "execution_count": 8,
   "outputs": [
    {
     "name": "stdout",
     "output_type": "stream",
     "text": [
      "Epoch 1/40\n"
     ]
    },
    {
     "name": "stderr",
     "output_type": "stream",
     "text": [
      "2023-05-21 18:49:55.968054: I tensorflow/core/grappler/optimizers/custom_graph_optimizer_registry.cc:114] Plugin optimizer for device_type GPU is enabled.\n"
     ]
    },
    {
     "name": "stdout",
     "output_type": "stream",
     "text": [
      "100/100 [==============================] - ETA: 0s - loss: 0.0264 - decoder_loss: 0.0065 - decoder_1_loss: 0.0065 - decoder_2_loss: 0.0134"
     ]
    },
    {
     "name": "stderr",
     "output_type": "stream",
     "text": [
      "2023-05-21 18:50:04.561593: I tensorflow/core/grappler/optimizers/custom_graph_optimizer_registry.cc:114] Plugin optimizer for device_type GPU is enabled.\n"
     ]
    },
    {
     "name": "stdout",
     "output_type": "stream",
     "text": [
      "100/100 [==============================] - 11s 91ms/step - loss: 0.0264 - decoder_loss: 0.0065 - decoder_1_loss: 0.0065 - decoder_2_loss: 0.0134 - val_loss: 0.0067 - val_decoder_loss: 0.0016 - val_decoder_1_loss: 0.0015 - val_decoder_2_loss: 0.0036\n",
      "Epoch 2/40\n",
      "100/100 [==============================] - 8s 77ms/step - loss: 0.0049 - decoder_loss: 0.0011 - decoder_1_loss: 0.0011 - decoder_2_loss: 0.0027 - val_loss: 0.0035 - val_decoder_loss: 7.9017e-04 - val_decoder_1_loss: 7.6166e-04 - val_decoder_2_loss: 0.0020\n",
      "Epoch 3/40\n",
      "100/100 [==============================] - 8s 77ms/step - loss: 0.0034 - decoder_loss: 7.5477e-04 - decoder_1_loss: 7.4897e-04 - decoder_2_loss: 0.0019 - val_loss: 0.0025 - val_decoder_loss: 5.4222e-04 - val_decoder_1_loss: 5.2364e-04 - val_decoder_2_loss: 0.0015\n",
      "Epoch 4/40\n",
      "100/100 [==============================] - 8s 77ms/step - loss: 0.0024 - decoder_loss: 4.9890e-04 - decoder_1_loss: 4.9599e-04 - decoder_2_loss: 0.0014 - val_loss: 0.0021 - val_decoder_loss: 4.3688e-04 - val_decoder_1_loss: 4.1980e-04 - val_decoder_2_loss: 0.0012\n",
      "Epoch 5/40\n",
      "100/100 [==============================] - 8s 77ms/step - loss: 0.0021 - decoder_loss: 4.2795e-04 - decoder_1_loss: 4.2638e-04 - decoder_2_loss: 0.0012 - val_loss: 0.0017 - val_decoder_loss: 3.5566e-04 - val_decoder_1_loss: 3.4062e-04 - val_decoder_2_loss: 0.0010\n",
      "Epoch 6/40\n",
      "100/100 [==============================] - 8s 78ms/step - loss: 0.0018 - decoder_loss: 3.7986e-04 - decoder_1_loss: 3.7548e-04 - decoder_2_loss: 0.0011 - val_loss: 0.0015 - val_decoder_loss: 2.9650e-04 - val_decoder_1_loss: 2.8364e-04 - val_decoder_2_loss: 8.9076e-04\n",
      "Epoch 7/40\n",
      "100/100 [==============================] - 8s 78ms/step - loss: 0.0015 - decoder_loss: 3.0421e-04 - decoder_1_loss: 3.0080e-04 - decoder_2_loss: 9.0224e-04 - val_loss: 0.0015 - val_decoder_loss: 3.0837e-04 - val_decoder_1_loss: 2.9409e-04 - val_decoder_2_loss: 8.7677e-04\n",
      "Epoch 8/40\n",
      "100/100 [==============================] - 8s 77ms/step - loss: 0.0015 - decoder_loss: 3.0194e-04 - decoder_1_loss: 3.0091e-04 - decoder_2_loss: 8.8050e-04 - val_loss: 0.0016 - val_decoder_loss: 3.3567e-04 - val_decoder_1_loss: 3.2474e-04 - val_decoder_2_loss: 9.3469e-04\n",
      "Epoch 9/40\n",
      "100/100 [==============================] - 8s 77ms/step - loss: 0.0015 - decoder_loss: 3.0553e-04 - decoder_1_loss: 3.0142e-04 - decoder_2_loss: 8.6894e-04 - val_loss: 0.0011 - val_decoder_loss: 2.2744e-04 - val_decoder_1_loss: 2.1276e-04 - val_decoder_2_loss: 7.0503e-04\n",
      "Epoch 10/40\n",
      "100/100 [==============================] - 8s 79ms/step - loss: 0.0012 - decoder_loss: 2.4269e-04 - decoder_1_loss: 2.4057e-04 - decoder_2_loss: 7.3142e-04 - val_loss: 0.0018 - val_decoder_loss: 4.0123e-04 - val_decoder_1_loss: 3.8724e-04 - val_decoder_2_loss: 0.0011\n",
      "Epoch 11/40\n",
      "100/100 [==============================] - 8s 78ms/step - loss: 0.0012 - decoder_loss: 2.3588e-04 - decoder_1_loss: 2.3384e-04 - decoder_2_loss: 7.0603e-04 - val_loss: 0.0010 - val_decoder_loss: 2.0184e-04 - val_decoder_1_loss: 1.9175e-04 - val_decoder_2_loss: 6.3046e-04\n",
      "Epoch 12/40\n",
      "100/100 [==============================] - 8s 78ms/step - loss: 0.0011 - decoder_loss: 2.2818e-04 - decoder_1_loss: 2.2636e-04 - decoder_2_loss: 6.7980e-04 - val_loss: 9.3837e-04 - val_decoder_loss: 1.7989e-04 - val_decoder_1_loss: 1.7075e-04 - val_decoder_2_loss: 5.8773e-04\n",
      "Epoch 13/40\n",
      "100/100 [==============================] - 8s 79ms/step - loss: 0.0011 - decoder_loss: 2.1303e-04 - decoder_1_loss: 2.1091e-04 - decoder_2_loss: 6.4079e-04 - val_loss: 0.0011 - val_decoder_loss: 2.2977e-04 - val_decoder_1_loss: 2.2101e-04 - val_decoder_2_loss: 6.7269e-04\n",
      "Epoch 14/40\n",
      "100/100 [==============================] - 8s 78ms/step - loss: 0.0010 - decoder_loss: 2.0594e-04 - decoder_1_loss: 2.0504e-04 - decoder_2_loss: 6.1862e-04 - val_loss: 8.3571e-04 - val_decoder_loss: 1.5801e-04 - val_decoder_1_loss: 1.4936e-04 - val_decoder_2_loss: 5.2834e-04\n",
      "Epoch 15/40\n",
      "100/100 [==============================] - 8s 78ms/step - loss: 9.8639e-04 - decoder_loss: 1.9822e-04 - decoder_1_loss: 1.9429e-04 - decoder_2_loss: 5.9389e-04 - val_loss: 8.9556e-04 - val_decoder_loss: 1.7507e-04 - val_decoder_1_loss: 1.6811e-04 - val_decoder_2_loss: 5.5238e-04\n",
      "Epoch 16/40\n",
      "100/100 [==============================] - 8s 78ms/step - loss: 0.0011 - decoder_loss: 2.1681e-04 - decoder_1_loss: 2.1433e-04 - decoder_2_loss: 6.2735e-04 - val_loss: 8.4379e-04 - val_decoder_loss: 1.6384e-04 - val_decoder_1_loss: 1.5550e-04 - val_decoder_2_loss: 5.2445e-04\n",
      "Epoch 17/40\n",
      "100/100 [==============================] - 8s 78ms/step - loss: 8.6313e-04 - decoder_loss: 1.6970e-04 - decoder_1_loss: 1.6793e-04 - decoder_2_loss: 5.2551e-04 - val_loss: 0.0011 - val_decoder_loss: 2.4030e-04 - val_decoder_1_loss: 2.3486e-04 - val_decoder_2_loss: 6.6755e-04\n",
      "Epoch 18/40\n",
      "100/100 [==============================] - 8s 79ms/step - loss: 8.3952e-04 - decoder_loss: 1.6524e-04 - decoder_1_loss: 1.6378e-04 - decoder_2_loss: 5.1050e-04 - val_loss: 0.0011 - val_decoder_loss: 2.2802e-04 - val_decoder_1_loss: 2.1878e-04 - val_decoder_2_loss: 6.4397e-04\n",
      "Epoch 19/40\n",
      "100/100 [==============================] - 8s 77ms/step - loss: 9.1531e-04 - decoder_loss: 1.8495e-04 - decoder_1_loss: 1.8301e-04 - decoder_2_loss: 5.4736e-04 - val_loss: 7.2785e-04 - val_decoder_loss: 1.3710e-04 - val_decoder_1_loss: 1.3106e-04 - val_decoder_2_loss: 4.5968e-04\n",
      "Epoch 20/40\n",
      "100/100 [==============================] - 8s 78ms/step - loss: 7.6822e-04 - decoder_loss: 1.4977e-04 - decoder_1_loss: 1.4736e-04 - decoder_2_loss: 4.7109e-04 - val_loss: 8.9724e-04 - val_decoder_loss: 1.7988e-04 - val_decoder_1_loss: 1.7459e-04 - val_decoder_2_loss: 5.4278e-04\n",
      "Epoch 21/40\n",
      "100/100 [==============================] - 8s 79ms/step - loss: 8.1518e-04 - decoder_loss: 1.6190e-04 - decoder_1_loss: 1.6018e-04 - decoder_2_loss: 4.9310e-04 - val_loss: 7.2896e-04 - val_decoder_loss: 1.4072e-04 - val_decoder_1_loss: 1.3133e-04 - val_decoder_2_loss: 4.5691e-04\n",
      "Epoch 22/40\n",
      "100/100 [==============================] - 8s 78ms/step - loss: 7.3700e-04 - decoder_loss: 1.4380e-04 - decoder_1_loss: 1.4188e-04 - decoder_2_loss: 4.5132e-04 - val_loss: 8.2248e-04 - val_decoder_loss: 1.6545e-04 - val_decoder_1_loss: 1.5691e-04 - val_decoder_2_loss: 5.0012e-04\n",
      "Epoch 23/40\n",
      "100/100 [==============================] - 8s 79ms/step - loss: 7.8770e-04 - decoder_loss: 1.5699e-04 - decoder_1_loss: 1.5653e-04 - decoder_2_loss: 4.7418e-04 - val_loss: 9.1658e-04 - val_decoder_loss: 1.8550e-04 - val_decoder_1_loss: 1.7809e-04 - val_decoder_2_loss: 5.5300e-04\n",
      "Epoch 24/40\n",
      "100/100 [==============================] - 8s 77ms/step - loss: 6.7034e-04 - decoder_loss: 1.2895e-04 - decoder_1_loss: 1.2703e-04 - decoder_2_loss: 4.1436e-04 - val_loss: 6.0412e-04 - val_decoder_loss: 1.1042e-04 - val_decoder_1_loss: 1.0517e-04 - val_decoder_2_loss: 3.8854e-04\n",
      "Epoch 25/40\n",
      "100/100 [==============================] - 8s 79ms/step - loss: 7.4689e-04 - decoder_loss: 1.4891e-04 - decoder_1_loss: 1.4763e-04 - decoder_2_loss: 4.5036e-04 - val_loss: 6.2732e-04 - val_decoder_loss: 1.1682e-04 - val_decoder_1_loss: 1.1067e-04 - val_decoder_2_loss: 3.9982e-04\n",
      "Epoch 26/40\n",
      "100/100 [==============================] - 8s 78ms/step - loss: 6.9048e-04 - decoder_loss: 1.3588e-04 - decoder_1_loss: 1.3369e-04 - decoder_2_loss: 4.2091e-04 - val_loss: 7.5925e-04 - val_decoder_loss: 1.4974e-04 - val_decoder_1_loss: 1.4228e-04 - val_decoder_2_loss: 4.6723e-04\n",
      "Epoch 27/40\n",
      "100/100 [==============================] - 8s 78ms/step - loss: 6.3922e-04 - decoder_loss: 1.2361e-04 - decoder_1_loss: 1.2223e-04 - decoder_2_loss: 3.9337e-04 - val_loss: 7.0428e-04 - val_decoder_loss: 1.3669e-04 - val_decoder_1_loss: 1.3293e-04 - val_decoder_2_loss: 4.3466e-04\n",
      "Epoch 28/40\n",
      "100/100 [==============================] - 8s 78ms/step - loss: 6.3280e-04 - decoder_loss: 1.2282e-04 - decoder_1_loss: 1.2092e-04 - decoder_2_loss: 3.8906e-04 - val_loss: 6.7415e-04 - val_decoder_loss: 1.2913e-04 - val_decoder_1_loss: 1.2412e-04 - val_decoder_2_loss: 4.2089e-04\n",
      "Epoch 29/40\n",
      "100/100 [==============================] - 8s 77ms/step - loss: 6.3106e-04 - decoder_loss: 1.2301e-04 - decoder_1_loss: 1.2139e-04 - decoder_2_loss: 3.8666e-04 - val_loss: 7.4253e-04 - val_decoder_loss: 1.4702e-04 - val_decoder_1_loss: 1.4371e-04 - val_decoder_2_loss: 4.5180e-04\n",
      "Epoch 30/40\n",
      "100/100 [==============================] - 8s 78ms/step - loss: 6.6977e-04 - decoder_loss: 1.3337e-04 - decoder_1_loss: 1.3135e-04 - decoder_2_loss: 4.0505e-04 - val_loss: 7.9562e-04 - val_decoder_loss: 1.6316e-04 - val_decoder_1_loss: 1.5429e-04 - val_decoder_2_loss: 4.7817e-04\n",
      "Epoch 31/40\n",
      "100/100 [==============================] - 8s 80ms/step - loss: 6.2610e-04 - decoder_loss: 1.2259e-04 - decoder_1_loss: 1.2113e-04 - decoder_2_loss: 3.8238e-04 - val_loss: 5.4985e-04 - val_decoder_loss: 1.0121e-04 - val_decoder_1_loss: 9.5700e-05 - val_decoder_2_loss: 3.5294e-04\n",
      "Epoch 32/40\n",
      "100/100 [==============================] - 8s 77ms/step - loss: 6.7138e-04 - decoder_loss: 1.3498e-04 - decoder_1_loss: 1.3249e-04 - decoder_2_loss: 4.0391e-04 - val_loss: 7.1264e-04 - val_decoder_loss: 1.4507e-04 - val_decoder_1_loss: 1.3560e-04 - val_decoder_2_loss: 4.3197e-04\n",
      "Epoch 33/40\n",
      "100/100 [==============================] - 8s 79ms/step - loss: 5.9263e-04 - decoder_loss: 1.1612e-04 - decoder_1_loss: 1.1367e-04 - decoder_2_loss: 3.6283e-04 - val_loss: 6.6723e-04 - val_decoder_loss: 1.3167e-04 - val_decoder_1_loss: 1.2872e-04 - val_decoder_2_loss: 4.0685e-04\n",
      "Epoch 34/40\n",
      "100/100 [==============================] - 8s 78ms/step - loss: 5.6970e-04 - decoder_loss: 1.0991e-04 - decoder_1_loss: 1.0923e-04 - decoder_2_loss: 3.5055e-04 - val_loss: 5.3105e-04 - val_decoder_loss: 9.8679e-05 - val_decoder_1_loss: 9.3008e-05 - val_decoder_2_loss: 3.3937e-04\n",
      "Epoch 35/40\n",
      "100/100 [==============================] - 8s 78ms/step - loss: 6.0590e-04 - decoder_loss: 1.2006e-04 - decoder_1_loss: 1.1883e-04 - decoder_2_loss: 3.6701e-04 - val_loss: 5.3293e-04 - val_decoder_loss: 9.9311e-05 - val_decoder_1_loss: 9.2391e-05 - val_decoder_2_loss: 3.4123e-04\n",
      "Epoch 36/40\n",
      "100/100 [==============================] - 8s 79ms/step - loss: 5.5234e-04 - decoder_loss: 1.0660e-04 - decoder_1_loss: 1.0615e-04 - decoder_2_loss: 3.3959e-04 - val_loss: 5.1399e-04 - val_decoder_loss: 9.4013e-05 - val_decoder_1_loss: 9.0670e-05 - val_decoder_2_loss: 3.2931e-04\n",
      "Epoch 37/40\n",
      "100/100 [==============================] - 8s 79ms/step - loss: 5.9559e-04 - decoder_loss: 1.1816e-04 - decoder_1_loss: 1.1702e-04 - decoder_2_loss: 3.6041e-04 - val_loss: 5.5971e-04 - val_decoder_loss: 1.0632e-04 - val_decoder_1_loss: 1.0272e-04 - val_decoder_2_loss: 3.5067e-04\n",
      "Epoch 38/40\n",
      "100/100 [==============================] - 8s 79ms/step - loss: 5.8029e-04 - decoder_loss: 1.1491e-04 - decoder_1_loss: 1.1288e-04 - decoder_2_loss: 3.5250e-04 - val_loss: 5.4368e-04 - val_decoder_loss: 1.0448e-04 - val_decoder_1_loss: 9.6877e-05 - val_decoder_2_loss: 3.4232e-04\n",
      "Epoch 39/40\n",
      "100/100 [==============================] - 8s 78ms/step - loss: 4.9384e-04 - decoder_loss: 9.3221e-05 - decoder_1_loss: 9.2944e-05 - decoder_2_loss: 3.0768e-04 - val_loss: 6.4296e-04 - val_decoder_loss: 1.3156e-04 - val_decoder_1_loss: 1.2405e-04 - val_decoder_2_loss: 3.8735e-04\n",
      "Epoch 40/40\n",
      "100/100 [==============================] - 8s 79ms/step - loss: 5.6276e-04 - decoder_loss: 1.1117e-04 - decoder_1_loss: 1.0999e-04 - decoder_2_loss: 3.4161e-04 - val_loss: 5.9144e-04 - val_decoder_loss: 1.1513e-04 - val_decoder_1_loss: 1.1101e-04 - val_decoder_2_loss: 3.6530e-04\n",
      "Training in 316.4370 seconds\n"
     ]
    }
   ],
   "source": [
    "# Training\n",
    "optimizer = tf.keras.optimizers.Adam(learning_rate=0.005)\n",
    "autoencoder.compile(optimizer=optimizer, loss=losses.MeanSquaredError())\n",
    "\n",
    "monitor = EarlyStopping(monitor='loss', min_delta=1e-5, patience=5,\n",
    "                        verbose=1, mode='auto', restore_best_weights=True)\n",
    "tic = time.perf_counter()\n",
    "history = autoencoder.fit([x_train[:,0],x_train[:,1]], [y_train[:,0],y_train[:,1],y_train[:,2]], epochs=40,\n",
    "                          validation_data=((x_test[:,0],x_test[:,1]), (y_test[:, 0],y_test[:, 1],y_test[:, 2])),\n",
    "                          shuffle=True, batch_size=80)\n",
    "toc = time.perf_counter()\n",
    "print(f\"Training in {toc - tic:0.4f} seconds\")"
   ],
   "metadata": {
    "collapsed": false,
    "ExecuteTime": {
     "start_time": "2023-05-21T18:49:54.683707Z",
     "end_time": "2023-05-21T18:55:11.136142Z"
    }
   }
  },
  {
   "cell_type": "code",
   "execution_count": 9,
   "outputs": [
    {
     "name": "stderr",
     "output_type": "stream",
     "text": [
      "WARNING:absl:Found untraced functions such as _jit_compiled_convolution_op, _jit_compiled_convolution_op, _jit_compiled_convolution_op, _jit_compiled_convolution_op, _jit_compiled_convolution_op while saving (showing 5 of 18). These functions will not be directly callable after loading.\n"
     ]
    },
    {
     "name": "stdout",
     "output_type": "stream",
     "text": [
      "INFO:tensorflow:Assets written to: saved_model/autoencoder_80batch_lr005_40epochs2/assets\n"
     ]
    },
    {
     "name": "stderr",
     "output_type": "stream",
     "text": [
      "INFO:tensorflow:Assets written to: saved_model/autoencoder_80batch_lr005_40epochs2/assets\n"
     ]
    }
   ],
   "source": [
    "# save the trained model\n",
    "autoencoder.save('saved_model/autoencoder_80batch_lr005_40epochs2')\n",
    "encoder.save('saved_model/encoder_(10x10x16)_64pix_bs80_ratio05_1302')\n",
    "decoder.save('saved_model/decoder_(10x10x16)_64pix_bs80_ratio05_1302')"
   ],
   "metadata": {
    "collapsed": false,
    "ExecuteTime": {
     "start_time": "2023-05-21T19:02:19.545239Z",
     "end_time": "2023-05-21T19:02:21.488059Z"
    }
   }
  },
  {
   "cell_type": "code",
   "execution_count": 11,
   "metadata": {
    "collapsed": false,
    "ExecuteTime": {
     "start_time": "2023-05-21T19:09:20.448628Z",
     "end_time": "2023-05-21T19:09:22.957505Z"
    }
   },
   "outputs": [
    {
     "name": "stderr",
     "output_type": "stream",
     "text": [
      "2023-05-21 19:09:20.710854: I tensorflow/core/grappler/optimizers/custom_graph_optimizer_registry.cc:114] Plugin optimizer for device_type GPU is enabled.\n"
     ]
    },
    {
     "name": "stdout",
     "output_type": "stream",
     "text": [
      "63/63 [==============================] - 2s 24ms/step\n"
     ]
    },
    {
     "data": {
      "text/plain": "(3, 2000, 64, 64, 1)"
     },
     "execution_count": 11,
     "metadata": {},
     "output_type": "execute_result"
    }
   ],
   "source": [
    "# make predictions\n",
    "predictions = autoencoder.predict([x_test[:,0],x_test[:,1]])\n",
    "np.shape(predictions)"
   ]
  },
  {
   "cell_type": "code",
   "execution_count": 12,
   "metadata": {
    "collapsed": false,
    "ExecuteTime": {
     "start_time": "2023-05-21T19:09:26.208686Z",
     "end_time": "2023-05-21T19:09:26.608351Z"
    }
   },
   "outputs": [
    {
     "name": "stdout",
     "output_type": "stream",
     "text": [
      "mse is: 0.0003653030435089022\n",
      "ssim is for sample 808: 0.9772405028343201\n",
      "mean of ssim is: 0.9950870871543884\n"
     ]
    }
   ],
   "source": [
    "# calculate the mse and ssim\n",
    "mse = tf.keras.losses.MeanSquaredError()\n",
    "#mse(y_test[:,3], predictions[3]).numpy()\n",
    "print(f\"mse is: {mse(y_test[:,2], predictions[2]).numpy()}\")\n",
    "ssim = tf.image.ssim(y_test[:,2], predictions[2], max_val=1.0)\n",
    "ssim_mean = np.mean(ssim)\n",
    "print(f\"ssim is for sample {808}: {ssim[807].numpy()}\")\n",
    "print(f\"mean of ssim is: {ssim_mean}\")"
   ]
  },
  {
   "cell_type": "code",
   "execution_count": 13,
   "outputs": [],
   "source": [
    "# save the training loss and ssim\n",
    "history_df = pd.DataFrame(history.history)\n",
    "history_ssim = pd.DataFrame(ssim)\n",
    "with open('for_ausarbeitung/Aus/autoencoder_80batch_lr005_40epochs2.csv', 'wb') as file:\n",
    "    history_df.to_csv(file)\n",
    "with open('for_ausarbeitung/Aus/autoencoder_80batch_lr005_40epochs-ssim2.csv', 'wb') as file:\n",
    "    history_ssim.to_csv(file)"
   ],
   "metadata": {
    "collapsed": false,
    "ExecuteTime": {
     "start_time": "2023-05-21T19:10:37.360929Z",
     "end_time": "2023-05-21T19:10:37.381952Z"
    }
   }
  },
  {
   "cell_type": "code",
   "execution_count": 11,
   "metadata": {
    "collapsed": false
   },
   "outputs": [
    {
     "data": {
      "text/plain": "<Figure size 1000x800 with 3 Axes>",
      "image/png": "[encoded data removed]"
     },
     "metadata": {},
     "output_type": "display_data"
    },
    {
     "data": {
      "text/plain": "<Figure size 1000x800 with 3 Axes>",
      "image/png": "[encoded data removed]"
     },
     "metadata": {},
     "output_type": "display_data"
    }
   ],
   "source": [
    "# visualization of the predictions\n",
    "hf.show_image(sample_num=280, img_data1=data_set,img_data2=predictions)\n",
    "#for i in range(2):\n",
    "    #hf.show_image(sample_num=i+1, img_data1=data_set,img_data2=predictions)"
   ]
  },
  {
   "cell_type": "code",
   "execution_count": 9,
   "metadata": {
    "collapsed": false
   },
   "outputs": [
    {
     "data": {
      "text/plain": "<Figure size 640x480 with 1 Axes>",
      "image/png": "[encoded data removed]"
     },
     "metadata": {},
     "output_type": "display_data"
    }
   ],
   "source": [
    "# Visualization of the training loss\n",
    "fig, ax = plt.subplots()\n",
    "\n",
    "epochs = range(len(history_df))\n",
    "loss = history_df['decoder_2_loss']\n",
    "val_loss = history_df['val_decoder_2_loss']\n",
    "ax.set_xlabel('epochs')  # Add an x-label to the axes.\n",
    "ax.set_ylabel('loss')  # Add a y-label to the axes.\n",
    "\n",
    "ax.plot(epochs, loss, label='training losses')\n",
    "ax.plot(epochs, val_loss, label='validation losses')\n",
    "ax.legend()\n",
    "#ax.text(30, 0.0005, f'(30,{loss[29]})', color='b')\n",
    "#ax.annotate('(30, {:.2e})'.format(loss[29]), xy=(30, loss[29]), xytext=(35, 0.0006),\n",
    "#            arrowprops=dict(facecolor='black', shrink=0.05))\n",
    "plt.show()"
   ]
  },
  {
   "cell_type": "code",
   "execution_count": 10,
   "metadata": {
    "collapsed": false
   },
   "outputs": [
    {
     "data": {
      "text/plain": "<Figure size 1000x500 with 1 Axes>",
      "image/png": "[encoded data removed]"
     },
     "metadata": {},
     "output_type": "display_data"
    }
   ],
   "source": [
    "# Visualization of the ssim distribution\n",
    "\n",
    "fig, ax = plt.subplots(figsize=(10, 5))\n",
    "ax.hist(history_ssim)\n",
    "plt.show()"
   ]
  }
 ],
 "metadata": {
  "kernelspec": {
   "display_name": "tf-macos",
   "language": "python",
   "name": "tf-macos"
  },
  "vscode": {
   "interpreter": {
    "hash": "cb65b7e8a83bb98ea02aeefe1b6c3792983c9b5312cb8234c76537570a80e60d"
   }
  }
 },
 "nbformat": 4,
 "nbformat_minor": 4
}
