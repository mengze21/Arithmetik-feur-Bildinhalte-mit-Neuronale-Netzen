{
 "cells": [
  {
   "cell_type": "code",
   "execution_count": 1,
   "metadata": {
    "collapsed": true,
    "ExecuteTime": {
     "end_time": "2023-06-26T15:43:54.800206Z",
     "start_time": "2023-06-26T15:43:49.373355Z"
    }
   },
   "outputs": [],
   "source": [
    "import helpful_functions as hf\n",
    "from tensorflow import keras\n",
    "import tensorflow as tf\n",
    "from tensorflow.keras import layers, losses\n",
    "import numpy as np\n",
    "import matplotlib.pyplot as plt"
   ]
  },
  {
   "cell_type": "code",
   "execution_count": 2,
   "metadata": {
    "ExecuteTime": {
     "end_time": "2023-06-26T15:43:57.183540Z",
     "start_time": "2023-06-26T15:43:57.167126Z"
    }
   },
   "outputs": [
    {
     "name": "stdout",
     "output_type": "stream",
     "text": [
      "data_set shape is (10, 9, 64, 64, 1)\n",
      "samples shape is (10, 9, 64, 64, 1)\n",
      "x_test0 shape is (10, 2, 64, 64, 1)\n",
      "x_test shape is (10, 7, 64, 64, 1)\n",
      "all_images shape is (10, 64, 64, 1)\n"
     ]
    }
   ],
   "source": [
    "# load data_set\n",
    "# data_set = hf.load_dataset_npz('data_set/loop_test_10images_(5-15).npz')\n",
    "data_set = hf.load_dataset_npz('data_set/loops_test_64pix_3-8_2.npz')\n",
    "samples = data_set\n",
    "x_test0 = samples[:, 0:2]\n",
    "#x_test0 = np.expand_dims(x_test0, axis=0)\n",
    "x_test = samples[:, 2:]\n",
    "#x_test = np.expand_dims(x_test,axis=1)\n",
    "all_images = samples[:,8]\n",
    "print(f\"data_set shape is {data_set.shape}\")\n",
    "print(f\"samples shape is {np.shape(samples)}\")\n",
    "print(f\"x_test0 shape is {np.shape(x_test0)}\")\n",
    "print(f\"x_test shape is {np.shape(x_test)}\")\n",
    "print(f\"all_images shape is {np.shape(all_images)}\")"
   ]
  },
  {
   "cell_type": "code",
   "execution_count": 10,
   "metadata": {
    "ExecuteTime": {
     "end_time": "2023-06-26T15:46:36.509654Z",
     "start_time": "2023-06-26T15:46:36.504124Z"
    }
   },
   "outputs": [],
   "source": [
    "loops = 5"
   ]
  },
  {
   "cell_type": "code",
   "execution_count": 11,
   "metadata": {
    "ExecuteTime": {
     "end_time": "2023-06-26T15:46:41.267688Z",
     "start_time": "2023-06-26T15:46:39.811880Z"
    }
   },
   "outputs": [
    {
     "name": "stdout",
     "output_type": "stream",
     "text": [
      "WARNING:tensorflow:SavedModel saved prior to TF 2.5 detected when loading Keras model. Please ensure that you are saving the model with model.save() or tf.keras.models.save_model(), *NOT* tf.saved_model.save(). To confirm, there should be a file named \"keras_metadata.pb\" in the SavedModel directory.\n"
     ]
    },
    {
     "name": "stderr",
     "output_type": "stream",
     "text": [
      "2023-06-26 17:46:40.787440: I tensorflow/core/grappler/optimizers/custom_graph_optimizer_registry.cc:114] Plugin optimizer for device_type GPU is enabled.\n"
     ]
    },
    {
     "name": "stdout",
     "output_type": "stream",
     "text": [
      "1/1 [==============================] - 0s 391ms/step\n",
      "(3, 10, 64, 64, 1)\n",
      "1/1 [==============================] - 0s 24ms/step\n",
      "1/1 [==============================] - 0s 23ms/step\n",
      "1/1 [==============================] - 0s 22ms/step\n",
      "1/1 [==============================] - 0s 25ms/step\n",
      "1/1 [==============================] - 0s 22ms/step\n"
     ]
    }
   ],
   "source": [
    "#autoencoder = keras.models.load_model(\"saved_model/2Inputs_(10x10x16)_64pix\")\n",
    "autoencoder = keras.models.load_model(\"saved_model/autoencoder_80batch_lr001_40epochs\")\n",
    "\n",
    "predictions = autoencoder.predict([x_test0[:,0], x_test0[:,1]])\n",
    "print(np.shape(predictions))\n",
    "for j in range(loops):\n",
    "    predictions = autoencoder.predict([x_test[:,j], predictions[2]])"
   ]
  },
  {
   "cell_type": "markdown",
   "source": [
    "autoencoder2 = keras.models.load_model(\"saved_model/2Inputs_(10x10x16)_64pix_bs80_ratio05_1302\")\n",
    "\n",
    "predictions2 = autoencoder2.predict([x_test0[:,0], x_test0[:,1]])\n",
    "print(np.shape(predictions2))\n",
    "for j in range(loops):\n",
    "    predictions2 = autoencoder2.predict([x_test[:,j], predictions2[2]])"
   ],
   "metadata": {
    "collapsed": false
   }
  },
  {
   "cell_type": "markdown",
   "metadata": {},
   "source": []
  },
  {
   "cell_type": "code",
   "execution_count": 26,
   "outputs": [
    {
     "data": {
      "text/plain": "<Figure size 300x300 with 1 Axes>",
      "image/png": "[encoded data removed]"
     },
     "metadata": {},
     "output_type": "display_data"
    }
   ],
   "source": [
    "num = 8\n",
    "fig, ax = plt.subplots(figsize=(3, 3), constrained_layout=True)\n",
    "ax.imshow(all_images[num], origin='lower')\n",
    "#ax.set_title('Erwartetes Bild')\n",
    "ax.axis('off')\n",
    "plt.savefig(\"Ausarbeitung/graphic/loop_ori.svg\")"
   ],
   "metadata": {
    "collapsed": false
   }
  },
  {
   "cell_type": "code",
   "execution_count": 13,
   "outputs": [
    {
     "data": {
      "text/plain": "<Figure size 300x300 with 1 Axes>",
      "image/png": "[encoded data removed]"
     },
     "metadata": {},
     "output_type": "display_data"
    }
   ],
   "source": [
    "num = 8\n",
    "fig, ax = plt.subplots(figsize=(3, 3), constrained_layout=True)\n",
    "ax.imshow(predictions[2][num], origin='lower')\n",
    "#ax.set_title('reconstructed image')\n",
    "ax.axis('off')\n",
    "plt.savefig(\"Ausarbeitung/graphic/loop5.svg\")"
   ],
   "metadata": {
    "collapsed": false,
    "ExecuteTime": {
     "end_time": "2023-06-26T15:47:02.275405Z",
     "start_time": "2023-06-26T15:47:02.237851Z"
    }
   }
  },
  {
   "cell_type": "code",
   "execution_count": 22,
   "metadata": {},
   "outputs": [
    {
     "data": {
      "text/plain": "'\\nax[1].imshow(predictions[2][num], origin=\\'lower\\')\\nax[1].set_title(\\'reconstructed image\\')\\nax[1].axis(\\'off\\')\\n#plt.savefig(\"Ausarbeitung/graphic/loop.svg\")\\n'"
     },
     "execution_count": 22,
     "metadata": {},
     "output_type": "execute_result"
    },
    {
     "data": {
      "text/plain": "<Figure size 300x600 with 2 Axes>",
      "image/png": "[encoded data removed]"
     },
     "metadata": {},
     "output_type": "display_data"
    }
   ],
   "source": [
    "num = 8\n",
    "fig, ax = plt.subplots(1, 2, figsize=(3, 6), constrained_layout=True)\n",
    "ax[0].imshow(all_images[num], origin='lower')\n",
    "ax[0].set_title('orignal image')\n",
    "ax[0].axis('off')\n",
    "#plt.savefig(\"Ausarbeitung/graphic/loop.svg\")\n",
    "\"\"\"\n",
    "ax[1].imshow(predictions[2][num], origin='lower')\n",
    "ax[1].set_title('reconstructed image')\n",
    "ax[1].axis('off')\n",
    "#plt.savefig(\"Ausarbeitung/graphic/loop.svg\")\n",
    "\"\"\""
   ]
  },
  {
   "cell_type": "markdown",
   "source": [
    "num = 1\n",
    "fig, ax = plt.subplots(1, 2, figsize=(3, 6), constrained_layout=True)\n",
    "ax[0].imshow(all_images[num], origin='lower')\n",
    "ax[0].set_title('orignal image')\n",
    "ax[0].axis('off')\n",
    "ax[1].imshow(predictions2[2][num], origin='lower')\n",
    "ax[1].set_title('reconstructed image')\n",
    "ax[1].axis('off')"
   ],
   "metadata": {
    "collapsed": false
   }
  },
  {
   "cell_type": "code",
   "execution_count": null,
   "outputs": [],
   "source": [
    "\n"
   ],
   "metadata": {
    "collapsed": false
   }
  }
 ],
 "metadata": {
  "kernelspec": {
   "display_name": "TFC",
   "language": "python",
   "name": "python3"
  },
  "language_info": {
   "codemirror_mode": {
    "name": "ipython",
    "version": 3
   },
   "file_extension": ".py",
   "mimetype": "text/x-python",
   "name": "python",
   "nbconvert_exporter": "python",
   "pygments_lexer": "ipython3",
   "version": "3.8.13"
  },
  "vscode": {
   "interpreter": {
    "hash": "cb65b7e8a83bb98ea02aeefe1b6c3792983c9b5312cb8234c76537570a80e60d"
   }
  }
 },
 "nbformat": 4,
 "nbformat_minor": 0
}
