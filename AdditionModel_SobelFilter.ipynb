{
 "cells": [
  {
   "cell_type": "code",
   "execution_count": 1,
   "outputs": [],
   "source": [
    "import numpy as np\n",
    "import tensorflow as tf\n",
    "import helpful_functions as hf\n",
    "from tensorflow import keras\n",
    "from tensorflow.keras import layers, losses\n",
    "from tensorflow.keras.callbacks import EarlyStopping\n",
    "import matplotlib.pyplot as plt\n",
    "import pandas as pd"
   ],
   "metadata": {
    "collapsed": false,
    "ExecuteTime": {
     "start_time": "2023-04-23T17:08:48.019613Z",
     "end_time": "2023-04-23T17:08:50.125138Z"
    }
   }
  },
  {
   "cell_type": "code",
   "execution_count": 2,
   "metadata": {
    "collapsed": true,
    "ExecuteTime": {
     "start_time": "2023-04-23T17:08:51.493882Z",
     "end_time": "2023-04-23T17:08:51.811129Z"
    }
   },
   "outputs": [
    {
     "name": "stdout",
     "output_type": "stream",
     "text": [
      "Metal device set to: Apple M2\n"
     ]
    },
    {
     "name": "stderr",
     "output_type": "stream",
     "text": [
      "2023-04-23 17:08:51.498344: I tensorflow/core/common_runtime/pluggable_device/pluggable_device_factory.cc:306] Could not identify NUMA node of platform GPU ID 0, defaulting to 0. Your kernel may not have been built with NUMA support.\n",
      "2023-04-23 17:08:51.498468: I tensorflow/core/common_runtime/pluggable_device/pluggable_device_factory.cc:272] Created TensorFlow device (/job:localhost/replica:0/task:0/device:GPU:0 with 0 MB memory) -> physical PluggableDevice (device: 0, name: METAL, pci bus id: <undefined>)\n"
     ]
    },
    {
     "name": "stdout",
     "output_type": "stream",
     "text": [
      "Model: \"autoencoder\"\n",
      "__________________________________________________________________________________________________\n",
      " Layer (type)                   Output Shape         Param #     Connected to                     \n",
      "==================================================================================================\n",
      " input_img1 (InputLayer)        [(None, 64, 64, 1)]  0           []                               \n",
      "                                                                                                  \n",
      " input_img2 (InputLayer)        [(None, 64, 64, 1)]  0           []                               \n",
      "                                                                                                  \n",
      " tf.compat.v1.shape (TFOpLambda  (4,)                0           ['input_img1[0][0]']             \n",
      " )                                                                                                \n",
      "                                                                                                  \n",
      " tf.compat.v1.shape_1 (TFOpLamb  (4,)                0           ['input_img2[0][0]']             \n",
      " da)                                                                                              \n",
      "                                                                                                  \n",
      " tf.__operators__.getitem (Slic  ()                  0           ['tf.compat.v1.shape[0][0]']     \n",
      " ingOpLambda)                                                                                     \n",
      "                                                                                                  \n",
      " tf.__operators__.getitem_1 (Sl  ()                  0           ['tf.compat.v1.shape_1[0][0]']   \n",
      " icingOpLambda)                                                                                   \n",
      "                                                                                                  \n",
      " tf.compat.v1.pad (TFOpLambda)  (None, 66, 66, 1)    0           ['input_img1[0][0]']             \n",
      "                                                                                                  \n",
      " tf.tile (TFOpLambda)           (3, 3, 1, 2)         0           ['tf.__operators__.getitem[0][0]'\n",
      "                                                                 ]                                \n",
      "                                                                                                  \n",
      " tf.compat.v1.pad_1 (TFOpLambda  (None, 66, 66, 1)   0           ['input_img2[0][0]']             \n",
      " )                                                                                                \n",
      "                                                                                                  \n",
      " tf.tile_1 (TFOpLambda)         (3, 3, 1, 2)         0           ['tf.__operators__.getitem_1[0][0\n",
      "                                                                 ]']                              \n",
      "                                                                                                  \n",
      " tf.compat.v1.nn.depthwise_conv  (None, 64, 64, 2)   0           ['tf.compat.v1.pad[0][0]',       \n",
      " 2d (TFOpLambda)                                                  'tf.tile[0][0]']                \n",
      "                                                                                                  \n",
      " tf.concat (TFOpLambda)         (5,)                 0           ['tf.compat.v1.shape[0][0]']     \n",
      "                                                                                                  \n",
      " tf.compat.v1.nn.depthwise_conv  (None, 64, 64, 2)   0           ['tf.compat.v1.pad_1[0][0]',     \n",
      " 2d_1 (TFOpLambda)                                                'tf.tile_1[0][0]']              \n",
      "                                                                                                  \n",
      " tf.concat_1 (TFOpLambda)       (5,)                 0           ['tf.compat.v1.shape_1[0][0]']   \n",
      "                                                                                                  \n",
      " tf.reshape (TFOpLambda)        (None, 64, 64, 1, 2  0           ['tf.compat.v1.nn.depthwise_conv2\n",
      "                                )                                d[0][0]',                        \n",
      "                                                                  'tf.concat[0][0]']              \n",
      "                                                                                                  \n",
      " tf.reshape_1 (TFOpLambda)      (None, 64, 64, 1, 2  0           ['tf.compat.v1.nn.depthwise_conv2\n",
      "                                )                                d_1[0][0]',                      \n",
      "                                                                  'tf.concat_1[0][0]']            \n",
      "                                                                                                  \n",
      " tf.__operators__.getitem_3 (Sl  (None, 64, 64, 1)   0           ['tf.reshape[0][0]']             \n",
      " icingOpLambda)                                                                                   \n",
      "                                                                                                  \n",
      " tf.__operators__.getitem_2 (Sl  (None, 64, 64, 1)   0           ['tf.reshape[0][0]']             \n",
      " icingOpLambda)                                                                                   \n",
      "                                                                                                  \n",
      " tf.__operators__.getitem_5 (Sl  (None, 64, 64, 1)   0           ['tf.reshape_1[0][0]']           \n",
      " icingOpLambda)                                                                                   \n",
      "                                                                                                  \n",
      " tf.__operators__.getitem_4 (Sl  (None, 64, 64, 1)   0           ['tf.reshape_1[0][0]']           \n",
      " icingOpLambda)                                                                                   \n",
      "                                                                                                  \n",
      " tf.math.square (TFOpLambda)    (None, 64, 64, 1)    0           ['tf.__operators__.getitem_3[0][0\n",
      "                                                                 ]']                              \n",
      "                                                                                                  \n",
      " tf.math.square_1 (TFOpLambda)  (None, 64, 64, 1)    0           ['tf.__operators__.getitem_2[0][0\n",
      "                                                                 ]']                              \n",
      "                                                                                                  \n",
      " tf.math.square_2 (TFOpLambda)  (None, 64, 64, 1)    0           ['tf.__operators__.getitem_5[0][0\n",
      "                                                                 ]']                              \n",
      "                                                                                                  \n",
      " tf.math.square_3 (TFOpLambda)  (None, 64, 64, 1)    0           ['tf.__operators__.getitem_4[0][0\n",
      "                                                                 ]']                              \n",
      "                                                                                                  \n",
      " tf.math.add (TFOpLambda)       (None, 64, 64, 1)    0           ['tf.math.square[0][0]',         \n",
      "                                                                  'tf.math.square_1[0][0]']       \n",
      "                                                                                                  \n",
      " tf.math.add_1 (TFOpLambda)     (None, 64, 64, 1)    0           ['tf.math.square_2[0][0]',       \n",
      "                                                                  'tf.math.square_3[0][0]']       \n",
      "                                                                                                  \n",
      " tf.math.sqrt (TFOpLambda)      (None, 64, 64, 1)    0           ['tf.math.add[0][0]']            \n",
      "                                                                                                  \n",
      " tf.math.sqrt_1 (TFOpLambda)    (None, 64, 64, 1)    0           ['tf.math.add_1[0][0]']          \n",
      "                                                                                                  \n",
      " encoder1 (Functional)          (None, 30, 30, 16)   1248        ['input_img1[0][0]',             \n",
      "                                                                  'input_img2[0][0]',             \n",
      "                                                                  'tf.math.sqrt[0][0]',           \n",
      "                                                                  'tf.math.sqrt_1[0][0]']         \n",
      "                                                                                                  \n",
      " add_4 (Add)                    (None, 30, 30, 16)   0           ['encoder1[0][0]',               \n",
      "                                                                  'encoder1[2][0]']               \n",
      "                                                                                                  \n",
      " add_5 (Add)                    (None, 30, 30, 16)   0           ['encoder1[1][0]',               \n",
      "                                                                  'encoder1[3][0]']               \n",
      "                                                                                                  \n",
      " encoder2 (Functional)          (None, 10, 10, 16)   16240       ['add_4[0][0]',                  \n",
      "                                                                  'add_5[0][0]']                  \n",
      "                                                                                                  \n",
      " add_6 (Add)                    (None, 10, 10, 16)   0           ['encoder2[0][0]',               \n",
      "                                                                  'encoder2[1][0]']               \n",
      "                                                                                                  \n",
      " decoder (Functional)           (None, 64, 64, 1)    17473       ['encoder2[0][0]',               \n",
      "                                                                  'encoder2[1][0]',               \n",
      "                                                                  'add_6[0][0]']                  \n",
      "                                                                                                  \n",
      "==================================================================================================\n",
      "Total params: 34,961\n",
      "Trainable params: 34,961\n",
      "Non-trainable params: 0\n",
      "__________________________________________________________________________________________________\n"
     ]
    }
   ],
   "source": [
    "# -----encoder 2Input 10x10x16 image 64x64 pixel----- #\n",
    "#encoder1\n",
    "# output shape 30x30x16\n",
    "encoder1_inputs = keras.Input(shape=(64, 64, 1), name=\"img_input1\")\n",
    "x = layers.Conv2D(8, 3, activation=\"relu\")(encoder1_inputs)\n",
    "x = layers.Conv2D(16, 3, activation=\"relu\")(x)\n",
    "encoder1_outputs = layers.MaxPooling2D(2)(x)\n",
    "\n",
    "encoder1 = keras.Model(encoder1_inputs, encoder1_outputs, name=\"encoder1\")\n",
    "#encoder1.summary()\n",
    "\n",
    "# encoder2\n",
    "encoder2_inputs = keras.Input(shape=(30, 30, 16), name=\"img_input2\")\n",
    "x = layers.Conv2D(16, 3, activation=\"relu\", padding=\"same\")(encoder2_inputs)\n",
    "x = layers.Conv2D(16, 3, activation=\"relu\", padding=\"same\")(x)\n",
    "block_2_output = layers.add([x, encoder2_inputs])\n",
    "\n",
    "x = layers.Conv2D(16, 3, activation=\"relu\")(block_2_output)\n",
    "block_3_output = layers.MaxPooling2D(2)(x)\n",
    "\n",
    "x = layers.Conv2D(16, 3, activation=\"relu\", padding=\"same\")(block_3_output)\n",
    "x = layers.Conv2D(16, 3, activation=\"relu\", padding=\"same\")(x)\n",
    "block_4_output = layers.add([x, block_3_output])\n",
    "\n",
    "x  = layers.Conv2D(16, 3, activation=\"relu\")(block_4_output)\n",
    "encoder2_outputs= layers.Conv2D(16, 3, activation=\"relu\")(x)\n",
    "\n",
    "encoder2 = keras.Model(encoder2_inputs, encoder2_outputs, name=\"encoder2\")\n",
    "#encoder2.summary()\n",
    "\n",
    "#decoder\n",
    "decoder_inputs = keras.Input(shape=(10, 10, 16), name=\"decoder_input\")\n",
    "x = layers.Conv2DTranspose(16, 3, activation=\"relu\")(decoder_inputs)\n",
    "block_5_output = layers.Conv2DTranspose(16, 3, activation=\"relu\")(x)\n",
    "\n",
    "x = layers.Conv2DTranspose(16, 3, activation=\"relu\", padding=\"same\")(block_5_output)\n",
    "x = layers.Conv2DTranspose(16, 3, activation=\"relu\", padding=\"same\")(x)\n",
    "block_6_output = layers.add([x, block_5_output])\n",
    "\n",
    "x = layers.UpSampling2D(2)(block_6_output)\n",
    "block_7_output = layers.Conv2DTranspose(16, 3, activation=\"relu\")(x)\n",
    "\n",
    "x = layers.Conv2DTranspose(16, 3, activation=\"relu\", padding=\"same\")(block_7_output)\n",
    "x = layers.Conv2DTranspose(16, 3, activation=\"relu\", padding=\"same\")(x)\n",
    "block_8_output = layers.add([x, block_7_output])\n",
    "\n",
    "x = layers.UpSampling2D(2)(block_8_output)\n",
    "x = layers.Conv2DTranspose(8, 3, activation=\"relu\")(x)\n",
    "decoder_outputs = layers.Conv2DTranspose(1, 3, activation=\"relu\")(x)\n",
    "\n",
    "decoder = keras.Model(decoder_inputs, decoder_outputs, name=\"decoder\")\n",
    "#decoder.summary()\n",
    "\n",
    "# autoencoder\n",
    "# define 2 inputs of autoencoder\n",
    "autoencoder_input1 = keras.Input(shape=(64, 64, 1), name=\"input_img1\")\n",
    "autoencoder_input2 = keras.Input(shape=(64, 64, 1), name=\"input_img2\")\n",
    "\n",
    "# sobel filter\n",
    "sobel_image1 = tf.image.sobel_edges(autoencoder_input1)\n",
    "sobel_image2 = tf.image.sobel_edges(autoencoder_input2)\n",
    "\n",
    "# get all direction sobel image\n",
    "# image 1\n",
    "sobel_image1_y = sobel_image1[:,:,:,:,0] # sobel in y-direction\n",
    "sobel_image1_x = sobel_image1[:,:,:,:,1] # sobel in x-direction\n",
    "sobel_image1_sqrt = tf.math.sqrt(tf.math.add(tf.math.square(sobel_image1_x), tf.math.square(sobel_image1_y)))\n",
    "\n",
    "# image 2\n",
    "sobel_image2_y = sobel_image2[:,:,:,:,0] # sobel in y-direction\n",
    "sobel_image2_x = sobel_image2[:,:,:,:,1] # sobel in x-direction\n",
    "sobel_image2_sqrt = tf.math.sqrt(tf.math.add(tf.math.square(sobel_image2_x), tf.math.square(sobel_image2_y)))\n",
    "\n",
    "# norm new\n",
    "#img1_max = tf.reduce_max(sobel_image1_sqrt)\n",
    "#img2_max = tf.reduce_max(sobel_image2_sqrt)\n",
    "#sobel_image1_sqrt = sobel_image1_sqrt / img1_max\n",
    "#sobel_image2_sqrt = sobel_image2_sqrt / img2_max\n",
    "\n",
    "# encoder block\n",
    "# encoder1\n",
    "encoded1_img1 = encoder1(autoencoder_input1)\n",
    "encoded1_img2 = encoder1(autoencoder_input2)\n",
    "encoded1_img_sobel1 = encoder1(sobel_image1_sqrt)\n",
    "encoded1_img_sobel2 = encoder1(sobel_image2_sqrt)\n",
    "# fusion\n",
    "encoded1_imgImp1 =layers.add([encoded1_img1,encoded1_img_sobel1])\n",
    "encoded1_imgImp2 =layers.add([encoded1_img2,encoded1_img_sobel2])\n",
    "# encoder2\n",
    "encoded2_imgImp1 = encoder2(encoded1_imgImp1)\n",
    "encoded2_imgImp2 = encoder2(encoded1_imgImp2)\n",
    "\n",
    "# latent space between encoder and decoder\n",
    "encoded2_imgImp3 = layers.add([encoded2_imgImp1,encoded2_imgImp2])\n",
    "\n",
    "# decoder block\n",
    "decoded_img1 = decoder(encoded2_imgImp1)\n",
    "decoded_img2 = decoder(encoded2_imgImp2)\n",
    "decoded_img3 = decoder(encoded2_imgImp3)\n",
    "\n",
    "autoencoder = keras.Model(inputs=[autoencoder_input1,autoencoder_input2],\n",
    "                          outputs=[decoded_img1,decoded_img2,decoded_img3], name=\"autoencoder\")\n",
    "autoencoder.summary()"
   ]
  },
  {
   "cell_type": "markdown",
   "source": [
    "keras.utils.plot_model(autoencoder, \"testModel_2Encoder.png\", show_shapes=True)"
   ],
   "metadata": {
    "collapsed": false
   }
  },
  {
   "cell_type": "code",
   "execution_count": 3,
   "outputs": [
    {
     "name": "stdout",
     "output_type": "stream",
     "text": [
      "(8000, 2, 64, 64, 1)\n",
      "(8000, 3, 64, 64, 1)\n",
      "(2000, 2, 64, 64, 1)\n",
      "(2000, 3, 64, 64, 1)\n"
     ]
    }
   ],
   "source": [
    "# load data_set\n",
    "data_set = hf.load_dataset_npz('data_set/2Inputs_64pix_3-8_ratio05.npz')\n",
    "#data_set = hf.load_dataset_npz('data_set/2Inputs_64pix_3-8_ratio07.npz')\n",
    "data_set = data_set.astype('float32')\n",
    "x_train = data_set[:8000, :2]\n",
    "y_train = data_set[:8000]\n",
    "x_test = data_set[8000:, :2]\n",
    "y_test = data_set[8000:]\n",
    "print(x_train.shape)\n",
    "print(y_train.shape)\n",
    "print(x_test.shape)\n",
    "print(y_test.shape)"
   ],
   "metadata": {
    "collapsed": false,
    "ExecuteTime": {
     "start_time": "2023-04-23T17:08:54.398541Z",
     "end_time": "2023-04-23T17:08:56.176516Z"
    }
   }
  },
  {
   "cell_type": "code",
   "execution_count": 4,
   "outputs": [
    {
     "name": "stdout",
     "output_type": "stream",
     "text": [
      "Epoch 1/15\n"
     ]
    },
    {
     "name": "stderr",
     "output_type": "stream",
     "text": [
      "2023-04-23 17:08:57.717537: W tensorflow/core/platform/profile_utils/cpu_utils.cc:128] Failed to get CPU frequency: 0 Hz\n",
      "2023-04-23 17:08:58.408758: I tensorflow/core/grappler/optimizers/custom_graph_optimizer_registry.cc:114] Plugin optimizer for device_type GPU is enabled.\n"
     ]
    },
    {
     "name": "stdout",
     "output_type": "stream",
     "text": [
      "399/400 [============================>.] - ETA: 0s - loss: 0.0101 - decoder_loss: 0.0024 - decoder_1_loss: 0.0024 - decoder_2_loss: 0.0053"
     ]
    },
    {
     "name": "stderr",
     "output_type": "stream",
     "text": [
      "2023-04-23 17:09:16.278194: I tensorflow/core/grappler/optimizers/custom_graph_optimizer_registry.cc:114] Plugin optimizer for device_type GPU is enabled.\n"
     ]
    },
    {
     "name": "stdout",
     "output_type": "stream",
     "text": [
      "400/400 [==============================] - 21s 48ms/step - loss: 0.0100 - decoder_loss: 0.0024 - decoder_1_loss: 0.0024 - decoder_2_loss: 0.0053 - val_loss: 0.0038 - val_decoder_loss: 8.6782e-04 - val_decoder_1_loss: 8.4461e-04 - val_decoder_2_loss: 0.0021\n",
      "Epoch 2/15\n",
      "400/400 [==============================] - 18s 46ms/step - loss: 0.0024 - decoder_loss: 5.1477e-04 - decoder_1_loss: 5.1112e-04 - decoder_2_loss: 0.0014 - val_loss: 0.0021 - val_decoder_loss: 4.5022e-04 - val_decoder_1_loss: 4.2692e-04 - val_decoder_2_loss: 0.0012\n",
      "Epoch 3/15\n",
      "400/400 [==============================] - 18s 46ms/step - loss: 0.0018 - decoder_loss: 3.7607e-04 - decoder_1_loss: 3.7031e-04 - decoder_2_loss: 0.0011 - val_loss: 0.0018 - val_decoder_loss: 3.8705e-04 - val_decoder_1_loss: 3.6876e-04 - val_decoder_2_loss: 0.0010\n",
      "Epoch 4/15\n",
      "400/400 [==============================] - 18s 45ms/step - loss: 0.0015 - decoder_loss: 3.0240e-04 - decoder_1_loss: 2.9973e-04 - decoder_2_loss: 8.7096e-04 - val_loss: 0.0015 - val_decoder_loss: 3.2713e-04 - val_decoder_1_loss: 3.1669e-04 - val_decoder_2_loss: 8.9249e-04\n",
      "Epoch 5/15\n",
      "400/400 [==============================] - 18s 46ms/step - loss: 0.0013 - decoder_loss: 2.5676e-04 - decoder_1_loss: 2.5342e-04 - decoder_2_loss: 7.4656e-04 - val_loss: 0.0011 - val_decoder_loss: 2.2534e-04 - val_decoder_1_loss: 2.1968e-04 - val_decoder_2_loss: 6.7700e-04\n",
      "Epoch 6/15\n",
      "400/400 [==============================] - 18s 46ms/step - loss: 0.0012 - decoder_loss: 2.3618e-04 - decoder_1_loss: 2.3346e-04 - decoder_2_loss: 6.8502e-04 - val_loss: 0.0011 - val_decoder_loss: 2.1579e-04 - val_decoder_1_loss: 2.0969e-04 - val_decoder_2_loss: 6.3364e-04\n",
      "Epoch 7/15\n",
      "400/400 [==============================] - 18s 46ms/step - loss: 0.0010 - decoder_loss: 2.1254e-04 - decoder_1_loss: 2.0805e-04 - decoder_2_loss: 6.1845e-04 - val_loss: 8.6403e-04 - val_decoder_loss: 1.6946e-04 - val_decoder_1_loss: 1.6448e-04 - val_decoder_2_loss: 5.3009e-04\n",
      "Epoch 8/15\n",
      "400/400 [==============================] - 18s 46ms/step - loss: 9.6825e-04 - decoder_loss: 1.9734e-04 - decoder_1_loss: 1.9569e-04 - decoder_2_loss: 5.7522e-04 - val_loss: 0.0010 - val_decoder_loss: 2.1139e-04 - val_decoder_1_loss: 2.0623e-04 - val_decoder_2_loss: 6.0451e-04\n",
      "Epoch 9/15\n",
      "400/400 [==============================] - 18s 46ms/step - loss: 9.2470e-04 - decoder_loss: 1.8895e-04 - decoder_1_loss: 1.8754e-04 - decoder_2_loss: 5.4822e-04 - val_loss: 9.2831e-04 - val_decoder_loss: 1.9078e-04 - val_decoder_1_loss: 1.8399e-04 - val_decoder_2_loss: 5.5354e-04\n",
      "Epoch 10/15\n",
      "400/400 [==============================] - 18s 45ms/step - loss: 8.1694e-04 - decoder_loss: 1.6509e-04 - decoder_1_loss: 1.6405e-04 - decoder_2_loss: 4.8780e-04 - val_loss: 8.3461e-04 - val_decoder_loss: 1.7004e-04 - val_decoder_1_loss: 1.6478e-04 - val_decoder_2_loss: 4.9980e-04\n",
      "Epoch 11/15\n",
      "400/400 [==============================] - 19s 47ms/step - loss: 7.9671e-04 - decoder_loss: 1.6233e-04 - decoder_1_loss: 1.6063e-04 - decoder_2_loss: 4.7375e-04 - val_loss: 7.1338e-04 - val_decoder_loss: 1.4319e-04 - val_decoder_1_loss: 1.3786e-04 - val_decoder_2_loss: 4.3233e-04\n",
      "Epoch 12/15\n",
      "400/400 [==============================] - 18s 46ms/step - loss: 7.5061e-04 - decoder_loss: 1.5298e-04 - decoder_1_loss: 1.5127e-04 - decoder_2_loss: 4.4636e-04 - val_loss: 6.7084e-04 - val_decoder_loss: 1.3368e-04 - val_decoder_1_loss: 1.2853e-04 - val_decoder_2_loss: 4.0863e-04\n",
      "Epoch 13/15\n",
      "400/400 [==============================] - 18s 46ms/step - loss: 7.1076e-04 - decoder_loss: 1.4463e-04 - decoder_1_loss: 1.4298e-04 - decoder_2_loss: 4.2315e-04 - val_loss: 7.3740e-04 - val_decoder_loss: 1.5304e-04 - val_decoder_1_loss: 1.4387e-04 - val_decoder_2_loss: 4.4049e-04\n",
      "Epoch 14/15\n",
      "400/400 [==============================] - 18s 46ms/step - loss: 6.8443e-04 - decoder_loss: 1.3867e-04 - decoder_1_loss: 1.3809e-04 - decoder_2_loss: 4.0767e-04 - val_loss: 6.1694e-04 - val_decoder_loss: 1.2118e-04 - val_decoder_1_loss: 1.1678e-04 - val_decoder_2_loss: 3.7898e-04\n",
      "Epoch 15/15\n",
      "400/400 [==============================] - 18s 45ms/step - loss: 6.5901e-04 - decoder_loss: 1.3385e-04 - decoder_1_loss: 1.3300e-04 - decoder_2_loss: 3.9216e-04 - val_loss: 7.9981e-04 - val_decoder_loss: 1.6919e-04 - val_decoder_1_loss: 1.6476e-04 - val_decoder_2_loss: 4.6586e-04\n"
     ]
    }
   ],
   "source": [
    "optimizer = tf.keras.optimizers.Adam(learning_rate=0.003)\n",
    "autoencoder.compile(optimizer=optimizer, loss=losses.MeanSquaredError())\n",
    "\n",
    "monitor = EarlyStopping(monitor='loss', min_delta=1e-5, patience=5,\n",
    "                        verbose=1, mode='auto', restore_best_weights=True)\n",
    "\n",
    "history = autoencoder.fit([x_train[:,0],x_train[:,1]], [y_train[:,0],y_train[:,1],y_train[:,2]], epochs=15,\n",
    "                          validation_data=((x_test[:,0],x_test[:,1]), (y_test[:, 0],y_test[:, 1],y_test[:, 2])),\n",
    "                          shuffle=True, batch_size=20)\n"
   ],
   "metadata": {
    "collapsed": false,
    "ExecuteTime": {
     "start_time": "2023-04-23T17:08:57.208486Z",
     "end_time": "2023-04-23T17:13:35.379121Z"
    }
   }
  },
  {
   "cell_type": "markdown",
   "source": [
    "# save the trained model\n",
    "autoencoder.save('saved_model/sobel_15epochs_withoutNorm')"
   ],
   "metadata": {
    "collapsed": false
   }
  },
  {
   "cell_type": "code",
   "execution_count": 5,
   "outputs": [
    {
     "name": "stderr",
     "output_type": "stream",
     "text": [
      "2023-04-23 17:14:04.403800: I tensorflow/core/grappler/optimizers/custom_graph_optimizer_registry.cc:114] Plugin optimizer for device_type GPU is enabled.\n"
     ]
    },
    {
     "name": "stdout",
     "output_type": "stream",
     "text": [
      "63/63 [==============================] - 3s 29ms/step\n"
     ]
    },
    {
     "data": {
      "text/plain": "(3, 2000, 64, 64, 1)"
     },
     "execution_count": 5,
     "metadata": {},
     "output_type": "execute_result"
    }
   ],
   "source": [
    "# make predictions\n",
    "predictions = autoencoder.predict([x_test[:,0],x_test[:,1]])\n",
    "np.shape(predictions)"
   ],
   "metadata": {
    "collapsed": false,
    "ExecuteTime": {
     "start_time": "2023-04-23T17:14:04.150261Z",
     "end_time": "2023-04-23T17:14:06.887935Z"
    }
   }
  },
  {
   "cell_type": "code",
   "execution_count": 6,
   "outputs": [
    {
     "name": "stdout",
     "output_type": "stream",
     "text": [
      "mse is: 0.00046585540985688567\n",
      "ssim is for sample 808: 0.9754031896591187\n",
      "mean of ssim is: 0.9941601753234863\n"
     ]
    }
   ],
   "source": [
    "mse = tf.keras.losses.MeanSquaredError()\n",
    "#mse(y_test[:,3], predictions[3]).numpy()\n",
    "print(f\"mse is: {mse(y_test[:,2], predictions[2]).numpy()}\")\n",
    "ssim = tf.image.ssim(y_test[:,2], predictions[2], max_val=1.0)\n",
    "ssim_mean = np.mean(ssim)\n",
    "print(f\"ssim is for sample {808}: {ssim[807].numpy()}\")\n",
    "print(f\"mean of ssim is: {ssim_mean}\")\n"
   ],
   "metadata": {
    "collapsed": false,
    "ExecuteTime": {
     "start_time": "2023-04-23T17:14:14.358312Z",
     "end_time": "2023-04-23T17:14:14.567332Z"
    }
   }
  },
  {
   "cell_type": "code",
   "execution_count": 7,
   "outputs": [],
   "source": [
    "history_df = pd.DataFrame(history.history)\n",
    "history_ssim = pd.DataFrame(ssim)\n",
    "with open('output/sobel_filter/Sobelnew(15epochs)withoutNorm111.csv', 'wb') as file:\n",
    "    history_df.to_csv(file)\n",
    "with open('output/sobel_filter/Sobelnew_ssim(15epochs)withoutNorm111.csv', 'wb') as file:\n",
    "    history_ssim.to_csv(file)"
   ],
   "metadata": {
    "collapsed": false,
    "ExecuteTime": {
     "start_time": "2023-04-23T17:14:58.167552Z",
     "end_time": "2023-04-23T17:14:58.182322Z"
    }
   }
  },
  {
   "cell_type": "code",
   "execution_count": 8,
   "outputs": [
    {
     "data": {
      "text/plain": "<Figure size 640x480 with 1 Axes>",
      "image/png": "[encoded data removed]"
     },
     "metadata": {},
     "output_type": "display_data"
    }
   ],
   "source": [
    "history_df = pd.DataFrame(history.history)\n",
    "history_ssim = pd.DataFrame(ssim)\n",
    "\n",
    "fig, ax = plt.subplots()\n",
    "epochs = range(len(history_df))\n",
    "loss = history_df['loss']\n",
    "val_loss = history_df['val_loss']\n",
    "ax.set_xlabel('epochs')  # Add an x-label to the axes.\n",
    "ax.set_ylabel('loss')  # Add a y-label to the axes.\n",
    "\n",
    "ax.plot(epochs, loss, label='training losses')\n",
    "ax.plot(epochs, val_loss, label='validation losses')\n",
    "ax.legend()\n",
    "#ax.text(30, 0.0005, f'(30,{loss[29]})', color='b')\n",
    "#ax.annotate('(30, {:.2e})'.format(loss[29]), xy=(30, loss[29]), xytext=(35, 0.0006),\n",
    " #           arrowprops=dict(facecolor='black', shrink=0.05))\n",
    "plt.show()"
   ],
   "metadata": {
    "collapsed": false,
    "ExecuteTime": {
     "start_time": "2023-04-23T17:15:00.832767Z",
     "end_time": "2023-04-23T17:15:00.941664Z"
    }
   }
  },
  {
   "cell_type": "markdown",
   "source": [
    "with open('output/sobel_filter/noSobel.csv', 'wb') as file:\n",
    "    history_df.to_csv(file)\n",
    "with open('output/sobel_filter/noSobel_ssim.csv', 'wb') as file:\n",
    "    history_ssim.to_csv(file)"
   ],
   "metadata": {
    "collapsed": false
   }
  },
  {
   "cell_type": "code",
   "execution_count": 12,
   "outputs": [
    {
     "data": {
      "text/plain": "<Figure size 1000x800 with 3 Axes>",
      "image/png": "[encoded data removed]"
     },
     "metadata": {},
     "output_type": "display_data"
    },
    {
     "data": {
      "text/plain": "<Figure size 1000x800 with 3 Axes>",
      "image/png": "[encoded data removed]"
     },
     "metadata": {},
     "output_type": "display_data"
    }
   ],
   "source": [
    "hf.show_image(sample_num=120, img_data1=data_set,img_data2=predictions)\n",
    "#for i in range(2):\n",
    "#hf.show_image(sample_num=i+1, img_data1=data_set,img_data2=predictions)"
   ],
   "metadata": {
    "collapsed": false,
    "ExecuteTime": {
     "start_time": "2023-04-23T17:25:14.314631Z",
     "end_time": "2023-04-23T17:25:14.534130Z"
    }
   }
  },
  {
   "cell_type": "code",
   "execution_count": null,
   "outputs": [],
   "source": [
    "n_bins = 10\n",
    "fig, ax = plt.subplots(figsize=(10, 5))\n",
    "ax.hist(history_ssim, n_bins, histtype='bar')\n",
    "plt.show()"
   ],
   "metadata": {
    "collapsed": false
   }
  },
  {
   "cell_type": "code",
   "execution_count": null,
   "outputs": [],
   "source": [],
   "metadata": {
    "collapsed": false
   }
  }
 ],
 "metadata": {
  "kernelspec": {
   "display_name": "Python 3",
   "language": "python",
   "name": "python3"
  },
  "language_info": {
   "codemirror_mode": {
    "name": "ipython",
    "version": 2
   },
   "file_extension": ".py",
   "mimetype": "text/x-python",
   "name": "python",
   "nbconvert_exporter": "python",
   "pygments_lexer": "ipython2",
   "version": "2.7.6"
  }
 },
 "nbformat": 4,
 "nbformat_minor": 0
}
