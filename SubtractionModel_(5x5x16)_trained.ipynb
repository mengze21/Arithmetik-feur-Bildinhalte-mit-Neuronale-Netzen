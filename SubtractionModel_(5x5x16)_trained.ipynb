{
 "cells": [
  {
   "cell_type": "code",
   "execution_count": 1,
   "metadata": {
    "collapsed": true
   },
   "outputs": [],
   "source": [
    "import numpy as np\n",
    "import helpful_functions as hf\n",
    "from tensorflow import keras\n",
    "import tensorflow as tf\n",
    "from tensorflow.keras import layers, losses\n",
    "from tensorflow.keras.callbacks import EarlyStopping\n",
    "import matplotlib.pyplot as plt\n",
    "import pandas as pd"
   ]
  },
  {
   "cell_type": "code",
   "execution_count": 2,
   "metadata": {
    "collapsed": false
   },
   "outputs": [
    {
     "name": "stdout",
     "output_type": "stream",
     "text": [
      "Metal device set to: Apple M2\n"
     ]
    },
    {
     "name": "stderr",
     "output_type": "stream",
     "text": [
      "2023-04-10 11:16:33.735898: I tensorflow/core/common_runtime/pluggable_device/pluggable_device_factory.cc:306] Could not identify NUMA node of platform GPU ID 0, defaulting to 0. Your kernel may not have been built with NUMA support.\n",
      "2023-04-10 11:16:33.736096: I tensorflow/core/common_runtime/pluggable_device/pluggable_device_factory.cc:272] Created TensorFlow device (/job:localhost/replica:0/task:0/device:GPU:0 with 0 MB memory) -> physical PluggableDevice (device: 0, name: METAL, pci bus id: <undefined>)\n"
     ]
    },
    {
     "name": "stdout",
     "output_type": "stream",
     "text": [
      "WARNING:tensorflow:No training configuration found in save file, so the model was *not* compiled. Compile it manually.\n",
      "WARNING:tensorflow:No training configuration found in save file, so the model was *not* compiled. Compile it manually.\n",
      "Model: \"autoencoder\"\n",
      "__________________________________________________________________________________________________\n",
      " Layer (type)                   Output Shape         Param #     Connected to                     \n",
      "==================================================================================================\n",
      " input_img1 (InputLayer)        [(None, 32, 32, 1)]  0           []                               \n",
      "                                                                                                  \n",
      " input_img2 (InputLayer)        [(None, 32, 32, 1)]  0           []                               \n",
      "                                                                                                  \n",
      " encoder (Functional)           (None, 5, 5, 16)     15168       ['input_img1[0][0]',             \n",
      "                                                                  'input_img2[0][0]']             \n",
      "                                                                                                  \n",
      " subtract (Subtract)            (None, 5, 5, 16)     0           ['encoder[0][0]',                \n",
      "                                                                  'encoder[1][0]']                \n",
      "                                                                                                  \n",
      " decoder (Functional)           (None, 32, 32, 1)    15153       ['encoder[0][0]',                \n",
      "                                                                  'encoder[1][0]',                \n",
      "                                                                  'subtract[0][0]']               \n",
      "                                                                                                  \n",
      "==================================================================================================\n",
      "Total params: 30,321\n",
      "Trainable params: 30,321\n",
      "Non-trainable params: 0\n",
      "__________________________________________________________________________________________________\n"
     ]
    }
   ],
   "source": [
    "# load saved encoder and decoder\n",
    "encoder = keras.models.load_model(\"saved_model/encoder_5x5x16_2\")\n",
    "decoder = keras.models.load_model(\"saved_model/decoder_5x5x16_2\")\n",
    "\n",
    "# build autoencoder with trained model\n",
    "autoencoder_input1 = keras.Input(shape=(32, 32, 1), name=\"input_img1\")\n",
    "autoencoder_input2 = keras.Input(shape=(32, 32, 1), name=\"input_img2\")\n",
    "encoded_img1 = encoder(autoencoder_input1)\n",
    "encoded_img2 = encoder(autoencoder_input2)\n",
    "encoded_img3 = layers.subtract((encoded_img1, encoded_img2))\n",
    "decoded_img1 = decoder(encoded_img1)\n",
    "decoded_img2 = decoder(encoded_img2)\n",
    "decoded_img3 = decoder(encoded_img3)\n",
    "autoencoder = keras.Model(inputs=[autoencoder_input1,autoencoder_input2],\n",
    "                          outputs=[decoded_img1,decoded_img2,decoded_img3], name=\"autoencoder\")\n",
    "autoencoder.summary()"
   ]
  },
  {
   "cell_type": "code",
   "execution_count": 3,
   "metadata": {
    "collapsed": false
   },
   "outputs": [],
   "source": [
    "# load data_set\n",
    "data_set = hf.load_dataset_npz('data_set/10000samples_3_8_ratio03_sub.npz')\n",
    "#data_set = hf.load_dataset_npz('data_set/10000samples_3_8_sub_noise.npz')\n",
    "#data_set = hf.load_dataset_npz('data_set/10000samples_3_8_ratio05.npz')\n",
    "data_set = data_set.astype('float32')\n",
    "x_train = data_set[:8000, :1]\n",
    "y_train = data_set[:8000,2]\n",
    "x_test = data_set[8000:, :1]\n",
    "y_test = data_set[8000:, 2]\n",
    "\n",
    "x_train_ell = data_set[:8000, 1]\n",
    "y_train_rec = data_set[:8000, 2]\n",
    "x_train_all = data_set[:8000, 0]\n",
    "\n",
    "x_test_ell = data_set[8000:, 1]\n",
    "y_test_rec = data_set[8000:, 2]\n",
    "x_test_all = data_set[8000:, 0]"
   ]
  },
  {
   "cell_type": "code",
   "execution_count": 4,
   "metadata": {
    "collapsed": false
   },
   "outputs": [
    {
     "name": "stderr",
     "output_type": "stream",
     "text": [
      "2023-04-10 11:16:39.763230: W tensorflow/core/platform/profile_utils/cpu_utils.cc:128] Failed to get CPU frequency: 0 Hz\n",
      "2023-04-10 11:16:39.894248: I tensorflow/core/grappler/optimizers/custom_graph_optimizer_registry.cc:114] Plugin optimizer for device_type GPU is enabled.\n"
     ]
    },
    {
     "name": "stdout",
     "output_type": "stream",
     "text": [
      "63/63 [==============================] - 1s 12ms/step\n"
     ]
    },
    {
     "data": {
      "text/plain": "(3, 2000, 32, 32, 1)"
     },
     "execution_count": 4,
     "metadata": {},
     "output_type": "execute_result"
    }
   ],
   "source": [
    "# make predications\n",
    "predictions = autoencoder.predict([x_test_all,x_test_ell])\n",
    "np.shape(predictions)"
   ]
  },
  {
   "cell_type": "code",
   "execution_count": 21,
   "outputs": [
    {
     "data": {
      "text/plain": "<Figure size 800x600 with 6 Axes>",
      "image/png": "[encoded data removed]"
     },
     "metadata": {},
     "output_type": "display_data"
    }
   ],
   "source": [
    "# Visualization\n",
    "num = 35\n",
    "fig, ax = plt.subplots(2, 3, figsize=(8, 6), constrained_layout=True)\n",
    "#fig1.suptitle('Original image', y=0.75)\n",
    "ax[0][0].imshow(x_test_all[num - 1], origin='lower')\n",
    "ax[0][0].set_title(f'Originales Bild 1', fontsize=14)\n",
    "ax[0][0].axis('off')\n",
    "ax[0][1].imshow(x_test_ell[num - 1], origin='lower')\n",
    "ax[0][1].set_title(f'Originales Bild 2', fontsize=14)\n",
    "ax[0][1].axis('off')\n",
    "ax[0][2].imshow(y_test_rec[num - 1], origin='lower')\n",
    "ax[0][2].set_title(f'Originales Bild 3', fontsize=14)\n",
    "ax[0][2].axis('off')\n",
    "ax[1][0].imshow(predictions[0][num-1], origin='lower')\n",
    "ax[1][0].set_title(f'Rekonstruiertes Bild 1', fontsize=14)\n",
    "ax[1][0].axis('off')\n",
    "ax[1][1].imshow(predictions[1][num-1], origin='lower')\n",
    "ax[1][1].set_title(f'Rekonstruiertes Bild 2', fontsize=14)\n",
    "ax[1][1].axis('off')\n",
    "ax[1][2].imshow(predictions[2][num-1], origin='lower')\n",
    "ax[1][2].set_title(f'Rekonstruiertes Bild 3', fontsize=14)\n",
    "ax[1][2].axis('off')\n",
    "plt.savefig(\"Ausarbeitung/graphic/sub_pretrained.svg\")\n"
   ],
   "metadata": {
    "collapsed": false
   }
  },
  {
   "cell_type": "code",
   "execution_count": 10,
   "outputs": [
    {
     "name": "stdout",
     "output_type": "stream",
     "text": [
      "mse is: 0.06800837069749832\n",
      "mean of ssim is: 0.6280145049095154\n"
     ]
    }
   ],
   "source": [
    "mse = tf.keras.losses.MeanSquaredError()\n",
    "#mse(y_test[:,3], predictions[3]).numpy()\n",
    "print(f\"mse is: {mse(y_test_rec, predictions).numpy()}\")\n",
    "ssim = tf.image.ssim(y_test_rec, predictions,max_val=1.0)\n",
    "ssim_mean = np.mean(ssim)\n",
    "#print(f\"ssim is for sample {40}: {ssim[40].numpy()}\")\n",
    "print(f\"mean of ssim is: {ssim_mean}\")"
   ],
   "metadata": {
    "collapsed": false
   }
  }
 ],
 "metadata": {
  "kernelspec": {
   "display_name": "tf-macos",
   "language": "python",
   "name": "python3"
  },
  "language_info": {
   "codemirror_mode": {
    "name": "ipython",
    "version": 3
   },
   "file_extension": ".py",
   "mimetype": "text/x-python",
   "name": "python",
   "nbconvert_exporter": "python",
   "pygments_lexer": "ipython3",
   "version": "3.8.13 | packaged by conda-forge | (default, Mar 25 2022, 06:05:16) \n[Clang 12.0.1 ]"
  },
  "vscode": {
   "interpreter": {
    "hash": "9e2bfba5ddbd51c826cb416d5bf46661af7cd1fc008013520c8b4aff548b11c3"
   }
  }
 },
 "nbformat": 4,
 "nbformat_minor": 0
}
